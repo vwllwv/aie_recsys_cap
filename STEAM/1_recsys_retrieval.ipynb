{
 "cells": [
  {
   "cell_type": "markdown",
   "id": "207d42e7",
   "metadata": {},
   "source": [
    "# Imports"
   ]
  },
  {
   "cell_type": "code",
   "execution_count": 1,
   "id": "3d873d21",
   "metadata": {},
   "outputs": [],
   "source": [
    "#!pip install -q tensorflow-recommenders\n",
    "#!pip install -q scann"
   ]
  },
  {
   "cell_type": "code",
   "execution_count": 2,
   "id": "fa18400c",
   "metadata": {},
   "outputs": [
    {
     "name": "stderr",
     "output_type": "stream",
     "text": [
      "2023-07-15 00:17:15.030941: I tensorflow/core/platform/cpu_feature_guard.cc:193] This TensorFlow binary is optimized with oneAPI Deep Neural Network Library (oneDNN) to use the following CPU instructions in performance-critical operations:  AVX2 FMA\n",
      "To enable them in other operations, rebuild TensorFlow with the appropriate compiler flags.\n",
      "2023-07-15 00:17:15.160853: W tensorflow/compiler/xla/stream_executor/platform/default/dso_loader.cc:64] Could not load dynamic library 'libcudart.so.11.0'; dlerror: libcudart.so.11.0: cannot open shared object file: No such file or directory\n",
      "2023-07-15 00:17:15.160868: I tensorflow/compiler/xla/stream_executor/cuda/cudart_stub.cc:29] Ignore above cudart dlerror if you do not have a GPU set up on your machine.\n",
      "2023-07-15 00:17:15.739620: W tensorflow/compiler/xla/stream_executor/platform/default/dso_loader.cc:64] Could not load dynamic library 'libnvinfer.so.7'; dlerror: libnvinfer.so.7: cannot open shared object file: No such file or directory\n",
      "2023-07-15 00:17:15.739685: W tensorflow/compiler/xla/stream_executor/platform/default/dso_loader.cc:64] Could not load dynamic library 'libnvinfer_plugin.so.7'; dlerror: libnvinfer_plugin.so.7: cannot open shared object file: No such file or directory\n",
      "2023-07-15 00:17:15.739691: W tensorflow/compiler/tf2tensorrt/utils/py_utils.cc:38] TF-TRT Warning: Cannot dlopen some TensorRT libraries. If you would like to use Nvidia GPU with TensorRT, please make sure the missing libraries mentioned above are installed properly.\n"
     ]
    }
   ],
   "source": [
    "import os\n",
    "import pprint\n",
    "import tempfile\n",
    "\n",
    "from typing import Dict, Text\n",
    "\n",
    "import pandas as pd\n",
    "import numpy as np\n",
    "import tensorflow as tf\n",
    "import tensorflow_recommenders as tfrs"
   ]
  },
  {
   "cell_type": "markdown",
   "id": "ccf1be0a",
   "metadata": {},
   "source": [
    "# Data Prep"
   ]
  },
  {
   "cell_type": "code",
   "execution_count": 23,
   "id": "7f8cdaa1",
   "metadata": {},
   "outputs": [],
   "source": [
    "# Contains User actions (buy/play associated with games - the users game library w/metadata for each game)\n",
    "df_users = pd.read_csv('final/user_steam_lib_final.csv') \n",
    "# Contains Games (unique games by their appid and metadata e.g. price, ratings, genre, tags)\n",
    "df_games = pd.read_csv('final/games_list_final.csv')     "
   ]
  },
  {
   "cell_type": "code",
   "execution_count": 4,
   "id": "fd8c3627",
   "metadata": {},
   "outputs": [
    {
     "name": "stdout",
     "output_type": "stream",
     "text": [
      "(83921, 22)\n",
      "(1363, 19)\n"
     ]
    }
   ],
   "source": [
    "print(df_users.shape)\n",
    "print(df_games.shape)"
   ]
  },
  {
   "cell_type": "code",
   "execution_count": 5,
   "id": "20902991",
   "metadata": {},
   "outputs": [
    {
     "name": "stdout",
     "output_type": "stream",
     "text": [
      "   Unnamed: 0  user_id                 name   play  purchase     appid  \\\n",
      "0           0     5250           alienswarm    4.9         1     630.0   \n",
      "1           1     5250       citiesskylines  144.0         1  255710.0   \n",
      "2           2     5250        counterstrike    0.0         1      10.0   \n",
      "3           3     5250  counterstrikesource    0.0         1     240.0   \n",
      "4           4     5250          dayofdefeat    0.0         1      30.0   \n",
      "\n",
      "  release_date  english            developer            publisher  ...  \\\n",
      "0   2010-07-19      1.0                Valve                Valve  ...   \n",
      "1   2015-03-10      1.0  Colossal Order Ltd.  Paradox Interactive  ...   \n",
      "2   2000-11-01      1.0                Valve                Valve  ...   \n",
      "3   2004-11-01      1.0                Valve                Valve  ...   \n",
      "4   2003-05-01      1.0                Valve                Valve  ...   \n",
      "\n",
      "                                          categories               genres  \\\n",
      "0  Single-player;Multi-player;Co-op;Steam Achieve...               Action   \n",
      "1  Single-player;Steam Achievements;Steam Trading...  Simulation;Strategy   \n",
      "2  Multi-player;Online Multi-Player;Local Multi-P...               Action   \n",
      "3  Multi-player;Cross-Platform Multiplayer;Steam ...               Action   \n",
      "4              Multi-player;Valve Anti-Cheat enabled               Action   \n",
      "\n",
      "                      steamspy_tags achievements positive_ratings  \\\n",
      "0         Free to Play;Co-op;Action         66.0          17435.0   \n",
      "1  City Builder;Simulation;Building         97.0          67553.0   \n",
      "2            Action;FPS;Multiplayer          0.0         124534.0   \n",
      "3            Action;FPS;Multiplayer        147.0          76640.0   \n",
      "4      FPS;World War II;Multiplayer          0.0           3416.0   \n",
      "\n",
      "   negative_ratings  average_playtime  median_playtime             owners  \\\n",
      "0             941.0             371.0             83.0    2000000-5000000   \n",
      "1            6005.0            3225.0            444.0   5000000-10000000   \n",
      "2            3339.0           17612.0            317.0  10000000-20000000   \n",
      "3            3497.0            6842.0            400.0  10000000-20000000   \n",
      "4             398.0             187.0             34.0   5000000-10000000   \n",
      "\n",
      "   price  \n",
      "0   0.00  \n",
      "1  22.99  \n",
      "2   7.19  \n",
      "3   7.19  \n",
      "4   3.99  \n",
      "\n",
      "[5 rows x 22 columns]\n"
     ]
    }
   ],
   "source": [
    "print(df_users.head())"
   ]
  },
  {
   "cell_type": "code",
   "execution_count": 6,
   "id": "a638554f",
   "metadata": {},
   "outputs": [
    {
     "name": "stdout",
     "output_type": "stream",
     "text": [
      "   Unnamed: 0                 name     appid release_date  english  \\\n",
      "0           0           alienswarm     630.0   2010-07-19      1.0   \n",
      "1           1       citiesskylines  255710.0   2015-03-10      1.0   \n",
      "2           2        counterstrike      10.0   2000-11-01      1.0   \n",
      "3           3  counterstrikesource     240.0   2004-11-01      1.0   \n",
      "4           4          dayofdefeat      30.0   2003-05-01      1.0   \n",
      "\n",
      "             developer            publisher          platforms  required_age  \\\n",
      "0                Valve                Valve            windows           0.0   \n",
      "1  Colossal Order Ltd.  Paradox Interactive  windows;mac;linux           0.0   \n",
      "2                Valve                Valve  windows;mac;linux           0.0   \n",
      "3                Valve                Valve  windows;mac;linux           0.0   \n",
      "4                Valve                Valve  windows;mac;linux           0.0   \n",
      "\n",
      "                                          categories               genres  \\\n",
      "0  Single-player;Multi-player;Co-op;Steam Achieve...               Action   \n",
      "1  Single-player;Steam Achievements;Steam Trading...  Simulation;Strategy   \n",
      "2  Multi-player;Online Multi-Player;Local Multi-P...               Action   \n",
      "3  Multi-player;Cross-Platform Multiplayer;Steam ...               Action   \n",
      "4              Multi-player;Valve Anti-Cheat enabled               Action   \n",
      "\n",
      "                      steamspy_tags  achievements  positive_ratings  \\\n",
      "0         Free to Play;Co-op;Action          66.0           17435.0   \n",
      "1  City Builder;Simulation;Building          97.0           67553.0   \n",
      "2            Action;FPS;Multiplayer           0.0          124534.0   \n",
      "3            Action;FPS;Multiplayer         147.0           76640.0   \n",
      "4      FPS;World War II;Multiplayer           0.0            3416.0   \n",
      "\n",
      "   negative_ratings  average_playtime  median_playtime             owners  \\\n",
      "0             941.0             371.0             83.0    2000000-5000000   \n",
      "1            6005.0            3225.0            444.0   5000000-10000000   \n",
      "2            3339.0           17612.0            317.0  10000000-20000000   \n",
      "3            3497.0            6842.0            400.0  10000000-20000000   \n",
      "4             398.0             187.0             34.0   5000000-10000000   \n",
      "\n",
      "   price  \n",
      "0   0.00  \n",
      "1  22.99  \n",
      "2   7.19  \n",
      "3   7.19  \n",
      "4   3.99  \n"
     ]
    }
   ],
   "source": [
    "print(df_games.head())"
   ]
  },
  {
   "cell_type": "code",
   "execution_count": 7,
   "id": "f4d6eb11",
   "metadata": {},
   "outputs": [
    {
     "data": {
      "text/plain": [
       "Unnamed: 0            int64\n",
       "name                 object\n",
       "appid               float64\n",
       "release_date         object\n",
       "english             float64\n",
       "developer            object\n",
       "publisher            object\n",
       "platforms            object\n",
       "required_age        float64\n",
       "categories           object\n",
       "genres               object\n",
       "steamspy_tags        object\n",
       "achievements        float64\n",
       "positive_ratings    float64\n",
       "negative_ratings    float64\n",
       "average_playtime    float64\n",
       "median_playtime     float64\n",
       "owners               object\n",
       "price               float64\n",
       "dtype: object"
      ]
     },
     "metadata": {},
     "output_type": "display_data"
    }
   ],
   "source": [
    "display(df_games.dtypes)"
   ]
  },
  {
   "cell_type": "code",
   "execution_count": 8,
   "id": "4db9f8cd",
   "metadata": {},
   "outputs": [
    {
     "data": {
      "text/plain": [
       "Unnamed: 0            int64\n",
       "user_id               int64\n",
       "name                 object\n",
       "play                float64\n",
       "purchase              int64\n",
       "appid               float64\n",
       "release_date         object\n",
       "english             float64\n",
       "developer            object\n",
       "publisher            object\n",
       "platforms            object\n",
       "required_age        float64\n",
       "categories           object\n",
       "genres               object\n",
       "steamspy_tags        object\n",
       "achievements        float64\n",
       "positive_ratings    float64\n",
       "negative_ratings    float64\n",
       "average_playtime    float64\n",
       "median_playtime     float64\n",
       "owners               object\n",
       "price               float64\n",
       "dtype: object"
      ]
     },
     "metadata": {},
     "output_type": "display_data"
    }
   ],
   "source": [
    "display(df_users.dtypes)"
   ]
  },
  {
   "cell_type": "code",
   "execution_count": 24,
   "id": "ae16ad5f",
   "metadata": {},
   "outputs": [],
   "source": [
    "# converting \"appid\", \"english\", and other columns from float to int\n",
    "df_games = df_games.astype({\"name\":'string', \"appid\":'int', \"english\":'int', \"required_age\":'int',\n",
    "                     \"achievements\": 'int', \"positive_ratings\":'int', \"negative_ratings\":'int',\n",
    "                     \"average_playtime\":'int', \"median_playtime\":'int'}) \n",
    "df_users = df_users.astype({\"name\":'string',\"appid\":'int', \"purchase\":'int',\n",
    "                     \"english\": 'int', \"required_age\":'int',\n",
    "                     \"achievements\": 'int', \"positive_ratings\":'int', \"negative_ratings\":'int',\n",
    "                     \"average_playtime\":'int', \"median_playtime\":'int'}) "
   ]
  },
  {
   "cell_type": "code",
   "execution_count": 10,
   "id": "bfaad82a",
   "metadata": {},
   "outputs": [
    {
     "data": {
      "text/plain": [
       "Unnamed: 0            int64\n",
       "name                 string\n",
       "appid                 int64\n",
       "release_date         object\n",
       "english               int64\n",
       "developer            object\n",
       "publisher            object\n",
       "platforms            object\n",
       "required_age          int64\n",
       "categories           object\n",
       "genres               object\n",
       "steamspy_tags        object\n",
       "achievements          int64\n",
       "positive_ratings      int64\n",
       "negative_ratings      int64\n",
       "average_playtime      int64\n",
       "median_playtime       int64\n",
       "owners               object\n",
       "price               float64\n",
       "dtype: object"
      ]
     },
     "metadata": {},
     "output_type": "display_data"
    }
   ],
   "source": [
    "display(df_games.dtypes)"
   ]
  },
  {
   "cell_type": "code",
   "execution_count": 11,
   "id": "c991a726",
   "metadata": {},
   "outputs": [
    {
     "data": {
      "text/plain": [
       "Unnamed: 0            int64\n",
       "user_id               int64\n",
       "name                 string\n",
       "play                float64\n",
       "purchase              int64\n",
       "appid                 int64\n",
       "release_date         object\n",
       "english               int64\n",
       "developer            object\n",
       "publisher            object\n",
       "platforms            object\n",
       "required_age          int64\n",
       "categories           object\n",
       "genres               object\n",
       "steamspy_tags        object\n",
       "achievements          int64\n",
       "positive_ratings      int64\n",
       "negative_ratings      int64\n",
       "average_playtime      int64\n",
       "median_playtime       int64\n",
       "owners               object\n",
       "price               float64\n",
       "dtype: object"
      ]
     },
     "metadata": {},
     "output_type": "display_data"
    }
   ],
   "source": [
    "display(df_users.dtypes)"
   ]
  },
  {
   "cell_type": "code",
   "execution_count": 12,
   "id": "49803a67",
   "metadata": {},
   "outputs": [
    {
     "data": {
      "text/plain": [
       "1363"
      ]
     },
     "execution_count": 12,
     "metadata": {},
     "output_type": "execute_result"
    }
   ],
   "source": [
    "df_games['appid'].nunique()"
   ]
  },
  {
   "cell_type": "code",
   "execution_count": 25,
   "id": "7f253b05",
   "metadata": {},
   "outputs": [
    {
     "data": {
      "text/plain": [
       "{'Unnamed: 0': 0,\n",
       " 'name': b'alienswarm',\n",
       " 'appid': 630,\n",
       " 'release_date': b'2010-07-19',\n",
       " 'english': 1,\n",
       " 'developer': b'Valve',\n",
       " 'publisher': b'Valve',\n",
       " 'platforms': b'windows',\n",
       " 'required_age': 0,\n",
       " 'categories': b'Single-player;Multi-player;Co-op;Steam Achievements;Captions available;Steam Cloud;Stats;Includes level editor',\n",
       " 'genres': b'Action',\n",
       " 'steamspy_tags': b'Free to Play;Co-op;Action',\n",
       " 'achievements': 66,\n",
       " 'positive_ratings': 17435,\n",
       " 'negative_ratings': 941,\n",
       " 'average_playtime': 371,\n",
       " 'median_playtime': 83,\n",
       " 'owners': b'2000000-5000000',\n",
       " 'price': 0.0}"
      ]
     },
     "execution_count": 25,
     "metadata": {},
     "output_type": "execute_result"
    }
   ],
   "source": [
    "# Convert dataframe to tensors\n",
    "ds_users = tf.data.Dataset.from_tensor_slices(dict(df_users))\n",
    "ds_games = tf.data.Dataset.from_tensor_slices(dict(df_games))\n",
    "\n",
    "list(ds_games.as_numpy_iterator())[0]"
   ]
  },
  {
   "cell_type": "code",
   "execution_count": 79,
   "id": "513adcc7",
   "metadata": {},
   "outputs": [
    {
     "data": {
      "text/plain": [
       "{'Unnamed: 0': 0,\n",
       " 'user_id': 5250,\n",
       " 'name': b'alienswarm',\n",
       " 'play': 4,\n",
       " 'purchase': 1,\n",
       " 'appid': 630,\n",
       " 'release_date': b'2010-07-19',\n",
       " 'english': 1,\n",
       " 'developer': b'Valve',\n",
       " 'publisher': b'Valve',\n",
       " 'platforms': b'windows',\n",
       " 'required_age': 0,\n",
       " 'categories': b'Single-player;Multi-player;Co-op;Steam Achievements;Captions available;Steam Cloud;Stats;Includes level editor',\n",
       " 'genres': b'Action',\n",
       " 'steamspy_tags': b'Free to Play;Co-op;Action',\n",
       " 'achievements': 66,\n",
       " 'positive_ratings': 17435,\n",
       " 'negative_ratings': 941,\n",
       " 'average_playtime': 371,\n",
       " 'median_playtime': 83,\n",
       " 'owners': b'2000000-5000000',\n",
       " 'price': 0.0}"
      ]
     },
     "execution_count": 79,
     "metadata": {},
     "output_type": "execute_result"
    }
   ],
   "source": [
    "list(ds_users.as_numpy_iterator())[0]"
   ]
  },
  {
   "cell_type": "code",
   "execution_count": 26,
   "id": "2de05a58",
   "metadata": {},
   "outputs": [],
   "source": [
    "# Select fields\n",
    "ds_users = ds_users.map(lambda x: {\n",
    "    'user_id': tf.strings.as_string(x['user_id']),\n",
    "    'appid': tf.strings.as_string(x['appid'])\n",
    "})\n",
    "#'play': tf.strings.as_string(x['play']),\n",
    "#'purchase': tf.string.as_string(x['purchase'])\n",
    "\n",
    "ds_games = ds_games.batch(32).map(lambda x: tf.strings.as_string(x['appid']))\n",
    "\n",
    "# Get all the user IDs\n",
    "user_ids = ds_users.batch(1000000).map(lambda x: x[\"user_id\"])\n",
    "#unique_user_ids = np.unique(np.concatenate(list(user_ids))).astype(str)\n",
    "\n",
    "# Get all the product IDs\n",
    "product_ids = ds_users.batch(1000000).map(lambda x: x[\"appid\"])\n",
    "#unique_product_ids = np.unique(np.concatenate(list(product_ids))).astype(str)"
   ]
  },
  {
   "cell_type": "code",
   "execution_count": 27,
   "id": "9a0227a3",
   "metadata": {},
   "outputs": [],
   "source": [
    "unique_product_ids = np.unique(np.concatenate(list(product_ids))).astype(str)"
   ]
  },
  {
   "cell_type": "code",
   "execution_count": 28,
   "id": "ae0ded75",
   "metadata": {},
   "outputs": [],
   "source": [
    "unique_user_ids = np.unique(np.concatenate(list(user_ids))).astype(str)"
   ]
  },
  {
   "cell_type": "code",
   "execution_count": 29,
   "id": "f787a830",
   "metadata": {},
   "outputs": [
    {
     "name": "stdout",
     "output_type": "stream",
     "text": [
      "user_ids : [array([b'5250', b'5250', b'5250', ..., b'309812026', b'309824202',\n",
      "       b'309903146'], dtype=object)]\n",
      "product_ids : [array([b'630', b'255710', b'10', ..., b'301520', b'570', b'570'],\n",
      "      dtype=object)]\n"
     ]
    }
   ],
   "source": [
    "print(\"user_ids :\", list(user_ids.as_numpy_iterator()))\n",
    "\n",
    "print(\"product_ids :\", list(product_ids.as_numpy_iterator()))"
   ]
  },
  {
   "cell_type": "code",
   "execution_count": 30,
   "id": "bd12c3e4",
   "metadata": {},
   "outputs": [
    {
     "name": "stdout",
     "output_type": "stream",
     "text": [
      "ds_users : {'user_id': b'5250', 'appid': b'630'}\n",
      "user_ids : [array([b'5250', b'5250', b'5250', ..., b'309812026', b'309824202',\n",
      "       b'309903146'], dtype=object)]\n",
      "product_ids : [array([b'630', b'255710', b'10', ..., b'301520', b'570', b'570'],\n",
      "      dtype=object)]\n"
     ]
    }
   ],
   "source": [
    "print(\"ds_users :\", list(ds_users.as_numpy_iterator())[0])\n",
    "\n",
    "print(\"user_ids :\", list(user_ids.as_numpy_iterator()))\n",
    "\n",
    "print(\"product_ids :\", list(product_ids.as_numpy_iterator()))"
   ]
  },
  {
   "cell_type": "code",
   "execution_count": 31,
   "id": "f0a75615",
   "metadata": {},
   "outputs": [
    {
     "name": "stdout",
     "output_type": "stream",
     "text": [
      "11413\n",
      "1363\n"
     ]
    }
   ],
   "source": [
    "print(len(unique_user_ids))\n",
    "print(len(unique_product_ids))"
   ]
  },
  {
   "cell_type": "markdown",
   "id": "bb92f3a9",
   "metadata": {},
   "source": [
    "# Two Towers (IDs only)"
   ]
  },
  {
   "cell_type": "code",
   "execution_count": 37,
   "id": "184abda4",
   "metadata": {},
   "outputs": [],
   "source": [
    "# User and Product models.\n",
    "class UserModel(tf.keras.Model):\n",
    "\n",
    "  def __init__(self, unique_user_ids):\n",
    "    super().__init__()\n",
    "\n",
    "    self.user_embedding = tf.keras.Sequential([\n",
    "      tf.keras.layers.experimental.preprocessing.StringLookup(\n",
    "        vocabulary=unique_user_ids, mask_token=None),\n",
    "      tf.keras.layers.Embedding(len(unique_user_ids) + 1, 32),\n",
    "    ])\n",
    "\n",
    "  def call(self, inputs):\n",
    "    return self.user_embedding(inputs) #shape: (len(inputs), 32)\n",
    "\n",
    "class ProductModel(tf.keras.Model):\n",
    "\n",
    "  def __init__(self, unique_product_ids):\n",
    "    super().__init__()\n",
    "\n",
    "    self.product_embedding = tf.keras.Sequential([\n",
    "      tf.keras.layers.experimental.preprocessing.StringLookup(\n",
    "        vocabulary=unique_product_ids, mask_token=None),\n",
    "      tf.keras.layers.Embedding(len(unique_product_ids) + 1, 32)\n",
    "    ])\n",
    "\n",
    "  def call(self, inputs):\n",
    "    return self.product_embedding(inputs)"
   ]
  },
  {
   "cell_type": "code",
   "execution_count": 38,
   "id": "da2744b8",
   "metadata": {},
   "outputs": [],
   "source": [
    "# Define the two-tower model.\n",
    "class TwoTowerModel(tfrs.models.Model):\n",
    "\n",
    "  def __init__(self, user_model, product_model, task):\n",
    "    super().__init__()\n",
    "    self.user_model = user_model\n",
    "    self.product_model = product_model\n",
    "    self.task = task\n",
    "\n",
    "  def compute_loss(self, features, training=False):\n",
    "    user_embeddings = self.user_model(features[\"user_id\"])\n",
    "    positive_product_embeddings = self.product_model(features[\"appid\"])\n",
    "\n",
    "    return self.task(user_embeddings, positive_product_embeddings)"
   ]
  },
  {
   "cell_type": "code",
   "execution_count": 39,
   "id": "888dc505",
   "metadata": {},
   "outputs": [
    {
     "name": "stdout",
     "output_type": "stream",
     "text": [
      "True\n"
     ]
    }
   ],
   "source": [
    "# Instantiate and compile the model.\n",
    "user_model = UserModel(unique_user_ids)\n",
    "product_model = ProductModel(unique_product_ids)\n",
    "\n",
    "# Calculate embeddings for all products.\n",
    "product_embeddings = tf.data.Dataset.from_tensor_slices(unique_product_ids).batch(128).map(product_model)\n",
    "\n",
    "emb1 = np.vstack(list(product_embeddings))\n",
    "emb2 = product_model.call(unique_product_ids)\n",
    "print(np.all(emb1 == emb2))\n",
    "\n",
    "# Specify the task.\n",
    "task = tfrs.tasks.Retrieval(\n",
    "    metrics=tfrs.metrics.FactorizedTopK(candidates=product_embeddings)\n",
    ")\n",
    "\n",
    "model = TwoTowerModel(user_model, product_model, task)\n",
    "model.compile(optimizer=tf.keras.optimizers.Adagrad(0.1))"
   ]
  },
  {
   "cell_type": "code",
   "execution_count": 40,
   "id": "32596902",
   "metadata": {},
   "outputs": [
    {
     "name": "stdout",
     "output_type": "stream",
     "text": [
      "Epoch 1/5\n",
      "1679/1679 [==============================] - 76s 44ms/step - factorized_top_k/top_1_categorical_accuracy: 0.0030 - factorized_top_k/top_5_categorical_accuracy: 0.0359 - factorized_top_k/top_10_categorical_accuracy: 0.0616 - factorized_top_k/top_50_categorical_accuracy: 0.1451 - factorized_top_k/top_100_categorical_accuracy: 0.1959 - loss: 195.3426 - regularization_loss: 0.0000e+00 - total_loss: 195.3426\n",
      "Epoch 2/5\n",
      "1679/1679 [==============================] - 76s 45ms/step - factorized_top_k/top_1_categorical_accuracy: 0.0089 - factorized_top_k/top_5_categorical_accuracy: 0.1404 - factorized_top_k/top_10_categorical_accuracy: 0.1901 - factorized_top_k/top_50_categorical_accuracy: 0.3076 - factorized_top_k/top_100_categorical_accuracy: 0.3698 - loss: 188.0490 - regularization_loss: 0.0000e+00 - total_loss: 188.0490\n",
      "Epoch 3/5\n",
      "1679/1679 [==============================] - 75s 45ms/step - factorized_top_k/top_1_categorical_accuracy: 0.0250 - factorized_top_k/top_5_categorical_accuracy: 0.1857 - factorized_top_k/top_10_categorical_accuracy: 0.2392 - factorized_top_k/top_50_categorical_accuracy: 0.3680 - factorized_top_k/top_100_categorical_accuracy: 0.4326 - loss: 179.1922 - regularization_loss: 0.0000e+00 - total_loss: 179.1922\n",
      "Epoch 4/5\n",
      "1679/1679 [==============================] - 75s 45ms/step - factorized_top_k/top_1_categorical_accuracy: 0.0317 - factorized_top_k/top_5_categorical_accuracy: 0.2050 - factorized_top_k/top_10_categorical_accuracy: 0.2635 - factorized_top_k/top_50_categorical_accuracy: 0.4042 - factorized_top_k/top_100_categorical_accuracy: 0.4738 - loss: 172.2964 - regularization_loss: 0.0000e+00 - total_loss: 172.2964\n",
      "Epoch 5/5\n",
      "1679/1679 [==============================] - 75s 44ms/step - factorized_top_k/top_1_categorical_accuracy: 0.0314 - factorized_top_k/top_5_categorical_accuracy: 0.2142 - factorized_top_k/top_10_categorical_accuracy: 0.2765 - factorized_top_k/top_50_categorical_accuracy: 0.4239 - factorized_top_k/top_100_categorical_accuracy: 0.4956 - loss: 167.5851 - regularization_loss: 0.0000e+00 - total_loss: 167.5851\n"
     ]
    },
    {
     "data": {
      "text/plain": [
       "<keras.callbacks.History at 0x7fad65fe45e0>"
      ]
     },
     "execution_count": 40,
     "metadata": {},
     "output_type": "execute_result"
    }
   ],
   "source": [
    "# Train for 5 epochs.\n",
    "model.fit(ds_users.batch(50), epochs=5)"
   ]
  },
  {
   "cell_type": "code",
   "execution_count": 43,
   "id": "0540e1aa",
   "metadata": {},
   "outputs": [
    {
     "name": "stdout",
     "output_type": "stream",
     "text": [
      "Top 3 recommendations for user 1: [ 24  23 206  20 222 219 448  21  64 175]\n"
     ]
    }
   ],
   "source": [
    "K = 10\n",
    "\n",
    "# Use brute-force search to set up retrieval using the trained representations.\n",
    "index = tfrs.layers.factorized_top_k.BruteForce(model.user_model, k=K)\n",
    "\n",
    "# Populate the index with the embeddings from the product model. And, perform this\n",
    "# operation in batch with a size of 32 observations for efficiency.\n",
    "product_embeddings_to_index = ds_games.map(lambda id: model.product_model(id))\n",
    "index.index_from_dataset(product_embeddings_to_index)\n",
    "\n",
    "# # Get some recommendations.\n",
    "user_id = \"1000000000\"\n",
    "_, products = index(np.array([user_id]))\n",
    "print(f\"Top 3 recommendations for user {user_id}: {products[0, :K]}\")"
   ]
  },
  {
   "cell_type": "code",
   "execution_count": null,
   "id": "bace64f7",
   "metadata": {},
   "outputs": [],
   "source": []
  }
 ],
 "metadata": {
  "kernelspec": {
   "display_name": "Python 3 (ipykernel)",
   "language": "python",
   "name": "python3"
  },
  "language_info": {
   "codemirror_mode": {
    "name": "ipython",
    "version": 3
   },
   "file_extension": ".py",
   "mimetype": "text/x-python",
   "name": "python",
   "nbconvert_exporter": "python",
   "pygments_lexer": "ipython3",
   "version": "3.10.9"
  }
 },
 "nbformat": 4,
 "nbformat_minor": 5
}
