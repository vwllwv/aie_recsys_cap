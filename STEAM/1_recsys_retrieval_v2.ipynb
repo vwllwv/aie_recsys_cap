{
 "cells": [
  {
   "cell_type": "markdown",
   "id": "207d42e7",
   "metadata": {},
   "source": [
    "# Imports"
   ]
  },
  {
   "cell_type": "code",
   "execution_count": 1,
   "id": "3d873d21",
   "metadata": {},
   "outputs": [],
   "source": [
    "#!pip install -q tensorflow-recommenders\n",
    "#!pip install -q scann"
   ]
  },
  {
   "cell_type": "code",
   "execution_count": 50,
   "id": "fa18400c",
   "metadata": {},
   "outputs": [],
   "source": [
    "import os\n",
    "import pprint\n",
    "import tempfile\n",
    "\n",
    "from typing import Dict, Text\n",
    "\n",
    "import pandas as pd\n",
    "import numpy as np\n",
    "import tensorflow as tf\n",
    "import tensorflow_recommenders as tfrs"
   ]
  },
  {
   "cell_type": "markdown",
   "id": "ccf1be0a",
   "metadata": {},
   "source": [
    "# Data Prep"
   ]
  },
  {
   "cell_type": "code",
   "execution_count": 51,
   "id": "7f8cdaa1",
   "metadata": {},
   "outputs": [],
   "source": [
    "# Contains User actions (buy/play associated with games - the users game library w/metadata for each game)\n",
    "df_users = pd.read_csv('final2/user_steam_lib_final.csv') \n",
    "# Contains Games (unique games by their appid and metadata e.g. price, ratings, genre, tags)\n",
    "df_games = pd.read_csv('final2/games_list_final.csv')     "
   ]
  },
  {
   "cell_type": "code",
   "execution_count": 52,
   "id": "fd8c3627",
   "metadata": {},
   "outputs": [
    {
     "name": "stdout",
     "output_type": "stream",
     "text": [
      "(83921, 23)\n",
      "(1363, 20)\n"
     ]
    }
   ],
   "source": [
    "print(df_users.shape)\n",
    "print(df_games.shape)"
   ]
  },
  {
   "cell_type": "code",
   "execution_count": 53,
   "id": "20902991",
   "metadata": {},
   "outputs": [
    {
     "name": "stdout",
     "output_type": "stream",
     "text": [
      "   Unnamed: 0  user_id                 name   play  purchase  \\\n",
      "0           0     5250           alienswarm    4.9         1   \n",
      "1           1     5250       citiesskylines  144.0         1   \n",
      "2           2     5250        counterstrike    0.0         1   \n",
      "3           3     5250  counterstrikesource    0.0         1   \n",
      "4           4     5250          dayofdefeat    0.0         1   \n",
      "\n",
      "                 og_name     appid release_date  english            developer  \\\n",
      "0            Alien Swarm     630.0   2010-07-19      1.0                Valve   \n",
      "1        Cities Skylines  255710.0   2015-03-10      1.0  Colossal Order Ltd.   \n",
      "2         Counter-Strike      10.0   2000-11-01      1.0                Valve   \n",
      "3  Counter-Strike Source     240.0   2004-11-01      1.0                Valve   \n",
      "4          Day of Defeat      30.0   2003-05-01      1.0                Valve   \n",
      "\n",
      "   ...                                         categories  \\\n",
      "0  ...  Single-player;Multi-player;Co-op;Steam Achieve...   \n",
      "1  ...  Single-player;Steam Achievements;Steam Trading...   \n",
      "2  ...  Multi-player;Online Multi-Player;Local Multi-P...   \n",
      "3  ...  Multi-player;Cross-Platform Multiplayer;Steam ...   \n",
      "4  ...              Multi-player;Valve Anti-Cheat enabled   \n",
      "\n",
      "                genres                     steamspy_tags achievements  \\\n",
      "0               Action         Free to Play;Co-op;Action         66.0   \n",
      "1  Simulation;Strategy  City Builder;Simulation;Building         97.0   \n",
      "2               Action            Action;FPS;Multiplayer          0.0   \n",
      "3               Action            Action;FPS;Multiplayer        147.0   \n",
      "4               Action      FPS;World War II;Multiplayer          0.0   \n",
      "\n",
      "  positive_ratings negative_ratings  average_playtime  median_playtime  \\\n",
      "0          17435.0            941.0             371.0             83.0   \n",
      "1          67553.0           6005.0            3225.0            444.0   \n",
      "2         124534.0           3339.0           17612.0            317.0   \n",
      "3          76640.0           3497.0            6842.0            400.0   \n",
      "4           3416.0            398.0             187.0             34.0   \n",
      "\n",
      "              owners  price  \n",
      "0    2000000-5000000   0.00  \n",
      "1   5000000-10000000  22.99  \n",
      "2  10000000-20000000   7.19  \n",
      "3  10000000-20000000   7.19  \n",
      "4   5000000-10000000   3.99  \n",
      "\n",
      "[5 rows x 23 columns]\n"
     ]
    }
   ],
   "source": [
    "print(df_users.head())"
   ]
  },
  {
   "cell_type": "code",
   "execution_count": 54,
   "id": "a638554f",
   "metadata": {},
   "outputs": [
    {
     "name": "stdout",
     "output_type": "stream",
     "text": [
      "   Unnamed: 0                 name                og_name     appid  \\\n",
      "0           0           alienswarm            Alien Swarm     630.0   \n",
      "1           1       citiesskylines        Cities Skylines  255710.0   \n",
      "2           2        counterstrike         Counter-Strike      10.0   \n",
      "3           3  counterstrikesource  Counter-Strike Source     240.0   \n",
      "4           4          dayofdefeat          Day of Defeat      30.0   \n",
      "\n",
      "  release_date  english            developer            publisher  \\\n",
      "0   2010-07-19      1.0                Valve                Valve   \n",
      "1   2015-03-10      1.0  Colossal Order Ltd.  Paradox Interactive   \n",
      "2   2000-11-01      1.0                Valve                Valve   \n",
      "3   2004-11-01      1.0                Valve                Valve   \n",
      "4   2003-05-01      1.0                Valve                Valve   \n",
      "\n",
      "           platforms  required_age  \\\n",
      "0            windows           0.0   \n",
      "1  windows;mac;linux           0.0   \n",
      "2  windows;mac;linux           0.0   \n",
      "3  windows;mac;linux           0.0   \n",
      "4  windows;mac;linux           0.0   \n",
      "\n",
      "                                          categories               genres  \\\n",
      "0  Single-player;Multi-player;Co-op;Steam Achieve...               Action   \n",
      "1  Single-player;Steam Achievements;Steam Trading...  Simulation;Strategy   \n",
      "2  Multi-player;Online Multi-Player;Local Multi-P...               Action   \n",
      "3  Multi-player;Cross-Platform Multiplayer;Steam ...               Action   \n",
      "4              Multi-player;Valve Anti-Cheat enabled               Action   \n",
      "\n",
      "                      steamspy_tags  achievements  positive_ratings  \\\n",
      "0         Free to Play;Co-op;Action          66.0           17435.0   \n",
      "1  City Builder;Simulation;Building          97.0           67553.0   \n",
      "2            Action;FPS;Multiplayer           0.0          124534.0   \n",
      "3            Action;FPS;Multiplayer         147.0           76640.0   \n",
      "4      FPS;World War II;Multiplayer           0.0            3416.0   \n",
      "\n",
      "   negative_ratings  average_playtime  median_playtime             owners  \\\n",
      "0             941.0             371.0             83.0    2000000-5000000   \n",
      "1            6005.0            3225.0            444.0   5000000-10000000   \n",
      "2            3339.0           17612.0            317.0  10000000-20000000   \n",
      "3            3497.0            6842.0            400.0  10000000-20000000   \n",
      "4             398.0             187.0             34.0   5000000-10000000   \n",
      "\n",
      "   price  \n",
      "0   0.00  \n",
      "1  22.99  \n",
      "2   7.19  \n",
      "3   7.19  \n",
      "4   3.99  \n"
     ]
    }
   ],
   "source": [
    "print(df_games.head())"
   ]
  },
  {
   "cell_type": "code",
   "execution_count": 55,
   "id": "f4d6eb11",
   "metadata": {},
   "outputs": [
    {
     "data": {
      "text/plain": [
       "Unnamed: 0            int64\n",
       "name                 object\n",
       "og_name              object\n",
       "appid               float64\n",
       "release_date         object\n",
       "english             float64\n",
       "developer            object\n",
       "publisher            object\n",
       "platforms            object\n",
       "required_age        float64\n",
       "categories           object\n",
       "genres               object\n",
       "steamspy_tags        object\n",
       "achievements        float64\n",
       "positive_ratings    float64\n",
       "negative_ratings    float64\n",
       "average_playtime    float64\n",
       "median_playtime     float64\n",
       "owners               object\n",
       "price               float64\n",
       "dtype: object"
      ]
     },
     "metadata": {},
     "output_type": "display_data"
    }
   ],
   "source": [
    "display(df_games.dtypes)"
   ]
  },
  {
   "cell_type": "code",
   "execution_count": 56,
   "id": "4db9f8cd",
   "metadata": {},
   "outputs": [
    {
     "data": {
      "text/plain": [
       "Unnamed: 0            int64\n",
       "user_id               int64\n",
       "name                 object\n",
       "play                float64\n",
       "purchase              int64\n",
       "og_name              object\n",
       "appid               float64\n",
       "release_date         object\n",
       "english             float64\n",
       "developer            object\n",
       "publisher            object\n",
       "platforms            object\n",
       "required_age        float64\n",
       "categories           object\n",
       "genres               object\n",
       "steamspy_tags        object\n",
       "achievements        float64\n",
       "positive_ratings    float64\n",
       "negative_ratings    float64\n",
       "average_playtime    float64\n",
       "median_playtime     float64\n",
       "owners               object\n",
       "price               float64\n",
       "dtype: object"
      ]
     },
     "metadata": {},
     "output_type": "display_data"
    }
   ],
   "source": [
    "display(df_users.dtypes)"
   ]
  },
  {
   "cell_type": "code",
   "execution_count": 57,
   "id": "ae16ad5f",
   "metadata": {},
   "outputs": [],
   "source": [
    "# converting \"appid\", \"english\", and other columns from float to int\n",
    "df_games = df_games.astype({\"name\":'string', \"og_name\": 'string', \"appid\":'string', \"release_date\":'string',\n",
    "                            \"english\":'int', \"developer\":'string', \"publisher\":'string', \"platforms\":'string',\n",
    "                            \"required_age\":'int', \"categories\":'string', \"genres\":'string', \n",
    "                            \"steamspy_tags\":'string', \"achievements\": 'int', \"positive_ratings\":'int', \n",
    "                            \"negative_ratings\":'int', \"average_playtime\":'int', \"median_playtime\":'int',\n",
    "                            \"owners\":'string', \"price\":'float64'\n",
    "                           }) \n",
    "df_users = df_users.astype({ \"user_id\":'string', \"name\":'string', \"play\":'int', \"purchase\":'int', \n",
    "                            \"og_name\": 'string', \"appid\":'string', \"release_date\":'string',\n",
    "                            \"english\":'int', \"developer\":'string', \"publisher\":'string', \"platforms\":'string',\n",
    "                            \"required_age\":'int', \"categories\":'string', \"genres\":'string', \n",
    "                            \"steamspy_tags\":'string', \"achievements\": 'int', \"positive_ratings\":'int', \n",
    "                            \"negative_ratings\":'int', \"average_playtime\":'int', \"median_playtime\":'int',\n",
    "                            \"owners\":'string', \"price\":'float64'\n",
    "                           }) "
   ]
  },
  {
   "cell_type": "code",
   "execution_count": 58,
   "id": "bfaad82a",
   "metadata": {},
   "outputs": [
    {
     "data": {
      "text/plain": [
       "Unnamed: 0            int64\n",
       "name                 string\n",
       "og_name              string\n",
       "appid                string\n",
       "release_date         string\n",
       "english               int64\n",
       "developer            string\n",
       "publisher            string\n",
       "platforms            string\n",
       "required_age          int64\n",
       "categories           string\n",
       "genres               string\n",
       "steamspy_tags        string\n",
       "achievements          int64\n",
       "positive_ratings      int64\n",
       "negative_ratings      int64\n",
       "average_playtime      int64\n",
       "median_playtime       int64\n",
       "owners               string\n",
       "price               float64\n",
       "dtype: object"
      ]
     },
     "metadata": {},
     "output_type": "display_data"
    }
   ],
   "source": [
    "display(df_games.dtypes)"
   ]
  },
  {
   "cell_type": "code",
   "execution_count": 59,
   "id": "c991a726",
   "metadata": {},
   "outputs": [
    {
     "data": {
      "text/plain": [
       "Unnamed: 0            int64\n",
       "user_id              string\n",
       "name                 string\n",
       "play                  int64\n",
       "purchase              int64\n",
       "og_name              string\n",
       "appid                string\n",
       "release_date         string\n",
       "english               int64\n",
       "developer            string\n",
       "publisher            string\n",
       "platforms            string\n",
       "required_age          int64\n",
       "categories           string\n",
       "genres               string\n",
       "steamspy_tags        string\n",
       "achievements          int64\n",
       "positive_ratings      int64\n",
       "negative_ratings      int64\n",
       "average_playtime      int64\n",
       "median_playtime       int64\n",
       "owners               string\n",
       "price               float64\n",
       "dtype: object"
      ]
     },
     "metadata": {},
     "output_type": "display_data"
    }
   ],
   "source": [
    "display(df_users.dtypes)"
   ]
  },
  {
   "cell_type": "code",
   "execution_count": 60,
   "id": "49803a67",
   "metadata": {},
   "outputs": [
    {
     "data": {
      "text/plain": [
       "1363"
      ]
     },
     "execution_count": 60,
     "metadata": {},
     "output_type": "execute_result"
    }
   ],
   "source": [
    "df_games['appid'].nunique()"
   ]
  },
  {
   "cell_type": "code",
   "execution_count": 61,
   "id": "9918d47a",
   "metadata": {},
   "outputs": [
    {
     "data": {
      "text/plain": [
       "1363"
      ]
     },
     "execution_count": 61,
     "metadata": {},
     "output_type": "execute_result"
    }
   ],
   "source": [
    "df_games['og_name'].nunique()"
   ]
  },
  {
   "cell_type": "code",
   "execution_count": 62,
   "id": "7f253b05",
   "metadata": {},
   "outputs": [
    {
     "data": {
      "text/plain": [
       "{'Unnamed: 0': 0,\n",
       " 'name': b'alienswarm',\n",
       " 'og_name': b'Alien Swarm',\n",
       " 'appid': b'630.0',\n",
       " 'release_date': b'2010-07-19',\n",
       " 'english': 1,\n",
       " 'developer': b'Valve',\n",
       " 'publisher': b'Valve',\n",
       " 'platforms': b'windows',\n",
       " 'required_age': 0,\n",
       " 'categories': b'Single-player;Multi-player;Co-op;Steam Achievements;Captions available;Steam Cloud;Stats;Includes level editor',\n",
       " 'genres': b'Action',\n",
       " 'steamspy_tags': b'Free to Play;Co-op;Action',\n",
       " 'achievements': 66,\n",
       " 'positive_ratings': 17435,\n",
       " 'negative_ratings': 941,\n",
       " 'average_playtime': 371,\n",
       " 'median_playtime': 83,\n",
       " 'owners': b'2000000-5000000',\n",
       " 'price': 0.0}"
      ]
     },
     "execution_count": 62,
     "metadata": {},
     "output_type": "execute_result"
    }
   ],
   "source": [
    "# Convert dataframe to tensors\n",
    "ds_users = tf.data.Dataset.from_tensor_slices(dict(df_users))\n",
    "ds_games = tf.data.Dataset.from_tensor_slices(dict(df_games))\n",
    "\n",
    "list(ds_games.as_numpy_iterator())[0]"
   ]
  },
  {
   "cell_type": "code",
   "execution_count": 63,
   "id": "513adcc7",
   "metadata": {},
   "outputs": [
    {
     "data": {
      "text/plain": [
       "{'Unnamed: 0': 0,\n",
       " 'user_id': b'5250',\n",
       " 'name': b'alienswarm',\n",
       " 'play': 4,\n",
       " 'purchase': 1,\n",
       " 'og_name': b'Alien Swarm',\n",
       " 'appid': b'630.0',\n",
       " 'release_date': b'2010-07-19',\n",
       " 'english': 1,\n",
       " 'developer': b'Valve',\n",
       " 'publisher': b'Valve',\n",
       " 'platforms': b'windows',\n",
       " 'required_age': 0,\n",
       " 'categories': b'Single-player;Multi-player;Co-op;Steam Achievements;Captions available;Steam Cloud;Stats;Includes level editor',\n",
       " 'genres': b'Action',\n",
       " 'steamspy_tags': b'Free to Play;Co-op;Action',\n",
       " 'achievements': 66,\n",
       " 'positive_ratings': 17435,\n",
       " 'negative_ratings': 941,\n",
       " 'average_playtime': 371,\n",
       " 'median_playtime': 83,\n",
       " 'owners': b'2000000-5000000',\n",
       " 'price': 0.0}"
      ]
     },
     "execution_count": 63,
     "metadata": {},
     "output_type": "execute_result"
    }
   ],
   "source": [
    "list(ds_users.as_numpy_iterator())[0]"
   ]
  },
  {
   "cell_type": "code",
   "execution_count": 64,
   "id": "2de05a58",
   "metadata": {},
   "outputs": [],
   "source": [
    "# Select fields\n",
    "#ds_users = ds_users.map(lambda x: {\n",
    "#    'user_id': tf.strings.as_string(x['user_id']),\n",
    "#    'og_name': tf.strings.as_string(x['og_name'])\n",
    "#})\n",
    "#'play': tf.strings.as_string(x['play']),\n",
    "#'purchase': tf.string.as_string(x['purchase'])\n",
    "\n",
    "ds_users = ds_users.map(lambda x: {\n",
    "    'user_id': x['user_id'],\n",
    "    'og_name': x['og_name']\n",
    "})\n",
    "\n",
    "#ds_games = ds_games.batch(32).map(lambda x: tf.strings.as_string(x['og_name']))\n",
    "ds_games = ds_games.batch(32).map(lambda x: x['og_name'])\n",
    "\n",
    "# Get all the user IDs\n",
    "user_ids = ds_users.batch(1000000).map(lambda x: x[\"user_id\"])\n",
    "#unique_user_ids = np.unique(np.concatenate(list(user_ids))).astype(str)\n",
    "\n",
    "# Get all the product IDs\n",
    "product_ids = ds_users.batch(1000000).map(lambda x: x[\"og_name\"])\n",
    "#unique_product_ids = np.unique(np.concatenate(list(product_ids))).astype(str)"
   ]
  },
  {
   "cell_type": "code",
   "execution_count": 65,
   "id": "abd90c61",
   "metadata": {},
   "outputs": [],
   "source": [
    "unique_product_ids = np.unique(np.concatenate(list(product_ids))).astype(str)"
   ]
  },
  {
   "cell_type": "code",
   "execution_count": 66,
   "id": "ce60c6dc",
   "metadata": {},
   "outputs": [],
   "source": [
    "unique_user_ids = np.unique(np.concatenate(list(user_ids))).astype(str)"
   ]
  },
  {
   "cell_type": "code",
   "execution_count": 67,
   "id": "f787a830",
   "metadata": {},
   "outputs": [
    {
     "name": "stdout",
     "output_type": "stream",
     "text": [
      "user_ids : [array([b'5250', b'5250', b'5250', ..., b'309812026', b'309824202',\n",
      "       b'309903146'], dtype=object)]\n",
      "product_ids : [array([b'Alien Swarm', b'Cities Skylines', b'Counter-Strike', ...,\n",
      "       b'Robocraft', b'Dota 2', b'Dota 2'], dtype=object)]\n"
     ]
    }
   ],
   "source": [
    "print(\"user_ids :\", list(user_ids.as_numpy_iterator()))\n",
    "\n",
    "print(\"product_ids :\", list(product_ids.as_numpy_iterator()))"
   ]
  },
  {
   "cell_type": "code",
   "execution_count": 68,
   "id": "bd12c3e4",
   "metadata": {},
   "outputs": [
    {
     "name": "stdout",
     "output_type": "stream",
     "text": [
      "ds_users : {'user_id': b'5250', 'og_name': b'Alien Swarm'}\n",
      "user_ids : [array([b'5250', b'5250', b'5250', ..., b'309812026', b'309824202',\n",
      "       b'309903146'], dtype=object)]\n",
      "product_ids : [array([b'Alien Swarm', b'Cities Skylines', b'Counter-Strike', ...,\n",
      "       b'Robocraft', b'Dota 2', b'Dota 2'], dtype=object)]\n"
     ]
    }
   ],
   "source": [
    "print(\"ds_users :\", list(ds_users.as_numpy_iterator())[0])\n",
    "\n",
    "print(\"user_ids :\", list(user_ids.as_numpy_iterator()))\n",
    "\n",
    "print(\"product_ids :\", list(product_ids.as_numpy_iterator()))"
   ]
  },
  {
   "cell_type": "code",
   "execution_count": 69,
   "id": "ed1f5952",
   "metadata": {},
   "outputs": [
    {
     "name": "stdout",
     "output_type": "stream",
     "text": [
      "11413\n",
      "1363\n"
     ]
    }
   ],
   "source": [
    "print(len(unique_user_ids))\n",
    "print(len(unique_product_ids))"
   ]
  },
  {
   "cell_type": "markdown",
   "id": "1c262802",
   "metadata": {},
   "source": [
    "# Two Towers (IDs only)"
   ]
  },
  {
   "cell_type": "code",
   "execution_count": 70,
   "id": "6ea01807",
   "metadata": {},
   "outputs": [],
   "source": [
    "# User and Product models.\n",
    "class UserModel(tf.keras.Model):\n",
    "\n",
    "  def __init__(self, unique_user_ids):\n",
    "    super().__init__()\n",
    "\n",
    "    self.user_embedding = tf.keras.Sequential([\n",
    "      tf.keras.layers.experimental.preprocessing.StringLookup(\n",
    "        vocabulary=unique_user_ids, mask_token=None),\n",
    "      tf.keras.layers.Embedding(len(unique_user_ids) + 1, 32),\n",
    "    ])\n",
    "\n",
    "  def call(self, inputs):\n",
    "    return self.user_embedding(inputs) #shape: (len(inputs), 32)\n",
    "\n",
    "class ProductModel(tf.keras.Model):\n",
    "\n",
    "  def __init__(self, unique_product_ids):\n",
    "    super().__init__()\n",
    "\n",
    "    self.product_embedding = tf.keras.Sequential([\n",
    "      tf.keras.layers.experimental.preprocessing.StringLookup(\n",
    "        vocabulary=unique_product_ids, mask_token=None),\n",
    "      tf.keras.layers.Embedding(len(unique_product_ids) + 1, 32)\n",
    "    ])\n",
    "\n",
    "  def call(self, inputs):\n",
    "    return self.product_embedding(inputs)"
   ]
  },
  {
   "cell_type": "code",
   "execution_count": 71,
   "id": "9c48d8d6",
   "metadata": {},
   "outputs": [],
   "source": [
    "# Define the two-tower model.\n",
    "class TwoTowerModel(tfrs.models.Model):\n",
    "\n",
    "  def __init__(self, user_model, product_model, task):\n",
    "    super().__init__()\n",
    "    self.user_model = user_model\n",
    "    self.product_model = product_model\n",
    "    self.task = task\n",
    "\n",
    "  def compute_loss(self, features, training=False):\n",
    "    user_embeddings = self.user_model(features[\"user_id\"])\n",
    "    positive_product_embeddings = self.product_model(features[\"og_name\"])\n",
    "\n",
    "    return self.task(user_embeddings, positive_product_embeddings)"
   ]
  },
  {
   "cell_type": "code",
   "execution_count": 72,
   "id": "27735e52",
   "metadata": {},
   "outputs": [
    {
     "name": "stdout",
     "output_type": "stream",
     "text": [
      "True\n"
     ]
    }
   ],
   "source": [
    "# Instantiate and compile the model.\n",
    "user_model = UserModel(unique_user_ids)\n",
    "product_model = ProductModel(unique_product_ids)\n",
    "\n",
    "# Calculate embeddings for all products.\n",
    "product_embeddings = tf.data.Dataset.from_tensor_slices(unique_product_ids).batch(128).map(product_model)\n",
    "\n",
    "emb1 = np.vstack(list(product_embeddings))\n",
    "emb2 = product_model.call(unique_product_ids)\n",
    "print(np.all(emb1 == emb2))\n",
    "\n",
    "# Specify the task.\n",
    "task = tfrs.tasks.Retrieval(\n",
    "    metrics=tfrs.metrics.FactorizedTopK(candidates=product_embeddings)\n",
    ")\n",
    "\n",
    "model = TwoTowerModel(user_model, product_model, task)\n",
    "model.compile(optimizer=tf.keras.optimizers.Adagrad(0.1))"
   ]
  },
  {
   "cell_type": "code",
   "execution_count": 73,
   "id": "86547f05",
   "metadata": {},
   "outputs": [
    {
     "name": "stdout",
     "output_type": "stream",
     "text": [
      "Epoch 1/4\n",
      "1679/1679 [==============================] - 72s 43ms/step - factorized_top_k/top_1_categorical_accuracy: 0.0028 - factorized_top_k/top_5_categorical_accuracy: 0.0364 - factorized_top_k/top_10_categorical_accuracy: 0.0617 - factorized_top_k/top_50_categorical_accuracy: 0.1443 - factorized_top_k/top_100_categorical_accuracy: 0.1950 - loss: 195.3564 - regularization_loss: 0.0000e+00 - total_loss: 195.3564\n",
      "Epoch 2/4\n",
      "1679/1679 [==============================] - 72s 43ms/step - factorized_top_k/top_1_categorical_accuracy: 0.0085 - factorized_top_k/top_5_categorical_accuracy: 0.1381 - factorized_top_k/top_10_categorical_accuracy: 0.1886 - factorized_top_k/top_50_categorical_accuracy: 0.3051 - factorized_top_k/top_100_categorical_accuracy: 0.3663 - loss: 188.2835 - regularization_loss: 0.0000e+00 - total_loss: 188.2835\n",
      "Epoch 3/4\n",
      "1679/1679 [==============================] - 72s 43ms/step - factorized_top_k/top_1_categorical_accuracy: 0.0265 - factorized_top_k/top_5_categorical_accuracy: 0.1871 - factorized_top_k/top_10_categorical_accuracy: 0.2381 - factorized_top_k/top_50_categorical_accuracy: 0.3651 - factorized_top_k/top_100_categorical_accuracy: 0.4303 - loss: 179.2577 - regularization_loss: 0.0000e+00 - total_loss: 179.2577\n",
      "Epoch 4/4\n",
      "1679/1679 [==============================] - 73s 43ms/step - factorized_top_k/top_1_categorical_accuracy: 0.0307 - factorized_top_k/top_5_categorical_accuracy: 0.2046 - factorized_top_k/top_10_categorical_accuracy: 0.2638 - factorized_top_k/top_50_categorical_accuracy: 0.4014 - factorized_top_k/top_100_categorical_accuracy: 0.4726 - loss: 172.3254 - regularization_loss: 0.0000e+00 - total_loss: 172.3254\n"
     ]
    },
    {
     "data": {
      "text/plain": [
       "<keras.callbacks.History at 0x7f9824d230d0>"
      ]
     },
     "execution_count": 73,
     "metadata": {},
     "output_type": "execute_result"
    }
   ],
   "source": [
    "# Train for 4 epochs.\n",
    "model.fit(ds_users.batch(50), epochs=4)\n",
    "\n",
    "# What is batch doing?"
   ]
  },
  {
   "cell_type": "code",
   "execution_count": 74,
   "id": "d5763b8e",
   "metadata": {},
   "outputs": [
    {
     "name": "stdout",
     "output_type": "stream",
     "text": [
      "Top 3 recommendations for user 76767: [238  13  14   4   7]\n"
     ]
    }
   ],
   "source": [
    "# How many recommendations\n",
    "K = 5\n",
    "\n",
    "# Use brute-force search to set up retrieval using the trained representations.\n",
    "index = tfrs.layers.factorized_top_k.BruteForce(model.user_model, k=K)\n",
    "\n",
    "# Populate the index with the embeddings from the product model. And, perform this\n",
    "# operation in batch with a size of 32 observations for efficiency.\n",
    "product_embeddings_to_index = ds_games.map(lambda id: model.product_model(id))\n",
    "index.index_from_dataset(product_embeddings_to_index)\n",
    "\n",
    "# # Get some recommendations.\n",
    "user_id = \"76767\"\n",
    "_, products = index(np.array([user_id]))\n",
    "print(f\"Top 3 recommendations for user {user_id}: {products[0, :K]}\")"
   ]
  },
  {
   "cell_type": "code",
   "execution_count": 75,
   "id": "15abbcaa",
   "metadata": {},
   "outputs": [
    {
     "name": "stdout",
     "output_type": "stream",
     "text": [
      "Recommendations for user 76767: [b'Mafia II' b'Half-Life Blue Shift' b'Half-Life Opposing Force'\n",
      " b'Day of Defeat' b'Half-Life']\n"
     ]
    }
   ],
   "source": [
    "# How many recommendations\n",
    "K = 5\n",
    "\n",
    "# Create a model that takes in raw query features, and\n",
    "index = tfrs.layers.factorized_top_k.BruteForce(model.user_model)\n",
    "# recommends movies out of the entire movies dataset.\n",
    "index.index_from_dataset(\n",
    "  tf.data.Dataset.zip((ds_games, ds_games.map(model.product_model)))\n",
    ")\n",
    "\n",
    "# Get recommendations.\n",
    "my_user_id = '76767'\n",
    "_, titles = index(tf.constant([my_user_id]))\n",
    "print(f\"Recommendations for user {my_user_id}: {titles[0, :K]}\")"
   ]
  },
  {
   "cell_type": "code",
   "execution_count": null,
   "id": "cf57fec8",
   "metadata": {},
   "outputs": [],
   "source": []
  }
 ],
 "metadata": {
  "kernelspec": {
   "display_name": "Python 3 (ipykernel)",
   "language": "python",
   "name": "python3"
  },
  "language_info": {
   "codemirror_mode": {
    "name": "ipython",
    "version": 3
   },
   "file_extension": ".py",
   "mimetype": "text/x-python",
   "name": "python",
   "nbconvert_exporter": "python",
   "pygments_lexer": "ipython3",
   "version": "3.10.9"
  }
 },
 "nbformat": 4,
 "nbformat_minor": 5
}
