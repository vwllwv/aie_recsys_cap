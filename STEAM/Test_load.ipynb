{
 "cells": [
  {
   "cell_type": "code",
   "execution_count": 1,
   "id": "51830eaf",
   "metadata": {},
   "outputs": [
    {
     "name": "stderr",
     "output_type": "stream",
     "text": [
      "2023-07-24 10:23:50.308075: I tensorflow/core/platform/cpu_feature_guard.cc:193] This TensorFlow binary is optimized with oneAPI Deep Neural Network Library (oneDNN) to use the following CPU instructions in performance-critical operations:  AVX2 FMA\n",
      "To enable them in other operations, rebuild TensorFlow with the appropriate compiler flags.\n",
      "2023-07-24 10:23:50.620484: W tensorflow/compiler/xla/stream_executor/platform/default/dso_loader.cc:64] Could not load dynamic library 'libcudart.so.11.0'; dlerror: libcudart.so.11.0: cannot open shared object file: No such file or directory\n",
      "2023-07-24 10:23:50.620499: I tensorflow/compiler/xla/stream_executor/cuda/cudart_stub.cc:29] Ignore above cudart dlerror if you do not have a GPU set up on your machine.\n",
      "2023-07-24 10:23:51.503873: W tensorflow/compiler/xla/stream_executor/platform/default/dso_loader.cc:64] Could not load dynamic library 'libnvinfer.so.7'; dlerror: libnvinfer.so.7: cannot open shared object file: No such file or directory\n",
      "2023-07-24 10:23:51.504053: W tensorflow/compiler/xla/stream_executor/platform/default/dso_loader.cc:64] Could not load dynamic library 'libnvinfer_plugin.so.7'; dlerror: libnvinfer_plugin.so.7: cannot open shared object file: No such file or directory\n",
      "2023-07-24 10:23:51.504059: W tensorflow/compiler/tf2tensorrt/utils/py_utils.cc:38] TF-TRT Warning: Cannot dlopen some TensorRT libraries. If you would like to use Nvidia GPU with TensorRT, please make sure the missing libraries mentioned above are installed properly.\n"
     ]
    }
   ],
   "source": [
    "import os\n",
    "import pprint\n",
    "import tempfile\n",
    "\n",
    "from typing import Dict, Text\n",
    "\n",
    "import pandas as pd\n",
    "import numpy as np\n",
    "import tensorflow as tf\n",
    "import tensorflow_recommenders as tfrs"
   ]
  },
  {
   "cell_type": "code",
   "execution_count": 2,
   "id": "48cb49e3",
   "metadata": {},
   "outputs": [
    {
     "name": "stderr",
     "output_type": "stream",
     "text": [
      "2023-07-24 10:25:34.501883: W tensorflow/compiler/xla/stream_executor/platform/default/dso_loader.cc:64] Could not load dynamic library 'libcuda.so.1'; dlerror: libcuda.so.1: cannot open shared object file: No such file or directory\n",
      "2023-07-24 10:25:34.501900: W tensorflow/compiler/xla/stream_executor/cuda/cuda_driver.cc:265] failed call to cuInit: UNKNOWN ERROR (303)\n",
      "2023-07-24 10:25:34.501915: I tensorflow/compiler/xla/stream_executor/cuda/cuda_diagnostics.cc:156] kernel driver does not appear to be running on this host (gram17): /proc/driver/nvidia/version does not exist\n",
      "2023-07-24 10:25:34.502077: I tensorflow/core/platform/cpu_feature_guard.cc:193] This TensorFlow binary is optimized with oneAPI Deep Neural Network Library (oneDNN) to use the following CPU instructions in performance-critical operations:  AVX2 FMA\n",
      "To enable them in other operations, rebuild TensorFlow with the appropriate compiler flags.\n"
     ]
    }
   ],
   "source": [
    "path = '/home/vern/aiedge_capstone/aie_recsys_cap/STEAM/model'\n",
    "\n",
    "# Load it back; can also be done in TensorFlow Serving.\n",
    "loaded = tf.saved_model.load(path)"
   ]
  },
  {
   "cell_type": "code",
   "execution_count": 4,
   "id": "578cf97f",
   "metadata": {},
   "outputs": [
    {
     "name": "stdout",
     "output_type": "stream",
     "text": [
      "Recommendations for user_id 76767: [b'304050' b'335330' b'346110' b'99900' b'363970']\n"
     ]
    }
   ],
   "source": [
    "# K = max 10 how many recommendations, my_user_id\n",
    "K = 5\n",
    "my_user_id = '76767'\n",
    "\n",
    "# Pass a user id in, get top predicted game titles back.\n",
    "scores, titles = loaded([my_user_id])\n",
    "\n",
    "print(f\"Recommendations for user_id {my_user_id}: {titles[0][:K]}\")"
   ]
  },
  {
   "cell_type": "code",
   "execution_count": 9,
   "id": "2cb851a9",
   "metadata": {},
   "outputs": [
    {
     "name": "stdout",
     "output_type": "stream",
     "text": [
      "Recommendations for user_id 5250: [b'242720' b'10' b'80' b'60' b'30']\n"
     ]
    }
   ],
   "source": [
    "# K = max 10 how many recommendations, my_user_id\n",
    "K = 5\n",
    "my_user_id = '5250'\n",
    "\n",
    "# Pass a user id in, get top predicted game titles back.\n",
    "scores, titles = loaded([my_user_id])\n",
    "\n",
    "print(f\"Recommendations for user_id {my_user_id}: {titles[0][:K]}\")"
   ]
  },
  {
   "cell_type": "code",
   "execution_count": 14,
   "id": "ca76870a",
   "metadata": {},
   "outputs": [
    {
     "data": {
      "text/plain": [
       "<tf.Tensor: shape=(10,), dtype=string, numpy=\n",
       "array([b'242720', b'10', b'80', b'60', b'30', b'40', b'570', b'400',\n",
       "       b'420', b'380'], dtype=object)>"
      ]
     },
     "execution_count": 14,
     "metadata": {},
     "output_type": "execute_result"
    }
   ],
   "source": [
    "titles[0]"
   ]
  },
  {
   "cell_type": "code",
   "execution_count": 12,
   "id": "5466dfe1",
   "metadata": {},
   "outputs": [
    {
     "data": {
      "text/plain": [
       "<tf.Tensor: shape=(5,), dtype=float32, numpy=\n",
       "array([2.2246885, 2.2172954, 2.1896472, 2.1394496, 2.0743012],\n",
       "      dtype=float32)>"
      ]
     },
     "execution_count": 12,
     "metadata": {},
     "output_type": "execute_result"
    }
   ],
   "source": [
    "scores[0][:K]"
   ]
  },
  {
   "cell_type": "markdown",
   "id": "7c46ecbe",
   "metadata": {},
   "source": [
    "# Test SCANN index"
   ]
  },
  {
   "cell_type": "code",
   "execution_count": 15,
   "id": "d6f34bac",
   "metadata": {},
   "outputs": [],
   "source": [
    "path2 = '/home/vern/aiedge_capstone/aie_recsys_cap/STEAM/scann_model'\n",
    "\n",
    "# Load it back; can also be done in TensorFlow Serving.\n",
    "loaded2 = tf.saved_model.load(path2)"
   ]
  },
  {
   "cell_type": "code",
   "execution_count": 16,
   "id": "e84948ab",
   "metadata": {},
   "outputs": [
    {
     "name": "stdout",
     "output_type": "stream",
     "text": [
      "Recommendations for user_id 76767: [b'335330' b'363970' b'99900' b'304050' b'311210']\n"
     ]
    }
   ],
   "source": [
    "# K = max 10 how many recommendations, my_user_id\n",
    "K = 5\n",
    "my_user_id = '76767'\n",
    "\n",
    "# Pass a user id in, get top predicted game titles back.\n",
    "scores, titles = loaded2([my_user_id])\n",
    "\n",
    "print(f\"Recommendations for user_id {my_user_id}: {titles[0][:K]}\")"
   ]
  },
  {
   "cell_type": "code",
   "execution_count": 17,
   "id": "43ac5b13",
   "metadata": {},
   "outputs": [
    {
     "data": {
      "text/plain": [
       "<tf.Tensor: shape=(5,), dtype=float32, numpy=\n",
       "array([1.2236708 , 0.96561706, 0.9048491 , 0.8604841 , 0.83050716],\n",
       "      dtype=float32)>"
      ]
     },
     "execution_count": 17,
     "metadata": {},
     "output_type": "execute_result"
    }
   ],
   "source": [
    "scores[0][:K]"
   ]
  },
  {
   "cell_type": "code",
   "execution_count": null,
   "id": "4a78384a",
   "metadata": {},
   "outputs": [],
   "source": []
  }
 ],
 "metadata": {
  "kernelspec": {
   "display_name": "Python 3 (ipykernel)",
   "language": "python",
   "name": "python3"
  },
  "language_info": {
   "codemirror_mode": {
    "name": "ipython",
    "version": 3
   },
   "file_extension": ".py",
   "mimetype": "text/x-python",
   "name": "python",
   "nbconvert_exporter": "python",
   "pygments_lexer": "ipython3",
   "version": "3.10.9"
  }
 },
 "nbformat": 4,
 "nbformat_minor": 5
}
